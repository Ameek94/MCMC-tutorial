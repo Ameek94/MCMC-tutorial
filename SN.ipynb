{
 "cells": [
  {
   "cell_type": "code",
   "execution_count": 2,
   "metadata": {},
   "outputs": [
    {
     "name": "stdout",
     "output_type": "stream",
     "text": [
      "GetDist Version: 1.4.7, Matplotlib version: 3.8.0\n"
     ]
    }
   ],
   "source": [
    "import matplotlib\n",
    "%matplotlib inline\n",
    "%config InlineBackend.figure_format = 'retina'\n",
    "import sys, os\n",
    "sys.path.insert(0,os.path.realpath(os.path.join(os.getcwd(),'..')))\n",
    "from getdist import plots, MCSamples\n",
    "import getdist\n",
    "import matplotlib.pyplot as plt\n",
    "import IPython\n",
    "print('GetDist Version: %s, Matplotlib version: %s'%(getdist.__version__, plt.matplotlib.__version__))\n",
    "from getdist import loadMCSamples\n",
    "from cobaya.samplers.mcmc import plot_progress\n",
    "matplotlib.rc('text', usetex=True)\n",
    "matplotlib.rc('font', size=18)\n",
    "matplotlib.rc('legend', fontsize=16)\n",
    "matplotlib.rc('text.latex', preamble=r'\\usepackage{lmodern}')"
   ]
  },
  {
   "cell_type": "code",
   "execution_count": 12,
   "metadata": {},
   "outputs": [],
   "source": [
    "samples = loadMCSamples(os.path.join(os.getcwd(),'./chains/Sn')\n",
    "                           ,settings={'ignore_rows':0.3})\n",
    "\n",
    "keys = ['omegam','omega_de','w','H0']\n",
    "for key in keys:\n",
    "    print(samples.getInlineLatex(key,limit=2))\n",
    "print(f\" R-1 = {samples.getGelmanRubin():.4f} \")\n",
    "\n"
   ]
  },
  {
   "cell_type": "code",
   "execution_count": 11,
   "metadata": {},
   "outputs": [],
   "source": [
    "g = plots.get_subplot_plotter(subplot_size=2.)\n",
    "g.settings.axes_fontsize=16\n",
    "g.settings.legend_fontsize = 16\n",
    "g.settings.axes_labelsize = 16\n",
    "g.settings.title_limit_fontsize = 12\n",
    "keys = ['omegam','omega_de','w']\n",
    "g.triangle_plot(samples,keys\n",
    "                ,filled=True,title_limit=2)"
   ]
  },
  {
   "cell_type": "code",
   "execution_count": null,
   "metadata": {},
   "outputs": [],
   "source": [
    "print(samples.getParamBestFitDict())"
   ]
  }
 ],
 "metadata": {
  "kernelspec": {
   "display_name": "cosmo",
   "language": "python",
   "name": "python3"
  },
  "language_info": {
   "codemirror_mode": {
    "name": "ipython",
    "version": 3
   },
   "file_extension": ".py",
   "mimetype": "text/x-python",
   "name": "python",
   "nbconvert_exporter": "python",
   "pygments_lexer": "ipython3",
   "version": "3.12.2"
  }
 },
 "nbformat": 4,
 "nbformat_minor": 2
}
