{
 "cells": [
  {
   "cell_type": "markdown",
   "metadata": {},
   "source": [
    "https://gregorygundersen.com/blog/2020/07/05/hmc/\n",
    "\n",
    "https://bayesianbrad.github.io/posts/2019_hmc.html"
   ]
  }
 ],
 "metadata": {
  "language_info": {
   "name": "python"
  }
 },
 "nbformat": 4,
 "nbformat_minor": 2
}
