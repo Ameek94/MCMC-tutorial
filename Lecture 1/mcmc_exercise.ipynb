{
 "cells": [
  {
   "cell_type": "markdown",
   "metadata": {},
   "source": [
    "### Exercise 1. Writing your own MCMC sampler"
   ]
  },
  {
   "cell_type": "code",
   "execution_count": 1,
   "metadata": {},
   "outputs": [],
   "source": [
    "import numpy as np\n",
    "import matplotlib.pyplot as plt\n",
    "%matplotlib inline\n",
    "%config InlineBackend.figure_format = 'retina'"
   ]
  },
  {
   "cell_type": "markdown",
   "metadata": {},
   "source": [
    "#### Create your loglikelihood and prior"
   ]
  },
  {
   "cell_type": "code",
   "execution_count": 2,
   "metadata": {},
   "outputs": [],
   "source": [
    "sigma = 0.1\n",
    "\n",
    "def gaussian_1d(x,sigma=sigma):\n",
    "    if x<-1. or x>1.: # Uniform prior in [-1,1]\n",
    "        return -1e100 # numerical stand-in for -np.inf, good enough for this example\n",
    "    else:\n",
    "        return - ( 0.5*(x/sigma)**2 - np.log(2*np.pi*sigma**2) ) "
   ]
  },
  {
   "cell_type": "markdown",
   "metadata": {},
   "source": [
    "#### Set up the Metropolis Hastings sampler and the proposal distribution"
   ]
  },
  {
   "cell_type": "code",
   "execution_count": 169,
   "metadata": {},
   "outputs": [],
   "source": [
    "def proposal(x,sigma):\n",
    "    \"the jump proposal distribution, a gaussian centered at x with given sigma\"\n",
    "    new_point = \n",
    "    return new_point\n",
    "\n",
    "def run_sampler(lnprob_function,x0=None,niter=1000,proposal_sigma=sigma):\n",
    "    \"a simple version of the Metropolis-Hastings algorithm\"\n",
    "    \n",
    "    samples = []\n",
    "    lnprob = []\n",
    "\n",
    "    # start the mcmc loop\n",
    "    for i in range(1,niter):\n",
    "        # propose new point to move to\n",
    "\n",
    "        # compute probability ratios\n",
    "\n",
    "        # accept reject/move according to the probability ratio\n",
    "\n",
    "        # if accept add new point to samples, else add same point, compute acceptance rate\n",
    "        # acceptance_rate at a given step i = samples_accepted / Number of steps up to i\n",
    "        \n",
    "    return samples, lnprob, acc_rate"
   ]
  },
  {
   "cell_type": "markdown",
   "metadata": {},
   "source": [
    "#### 1. Run the MCMC for different proposal_sigma, different x0 and plot the results"
   ]
  },
  {
   "cell_type": "code",
   "execution_count": 170,
   "metadata": {},
   "outputs": [],
   "source": [
    "samples, ln_prob, acc_rate = run_sampler(lnprob_function=gaussian_1d,x0=np.random.uniform(-1,1),proposal_sigma=0.01)"
   ]
  },
  {
   "cell_type": "code",
   "execution_count": 3,
   "metadata": {},
   "outputs": [],
   "source": [
    "test_x = np.linspace(-1,1,100)\n",
    "prob = np.exp(-0.5*(test_x/sigma)**2) / (np.sqrt(2*np.pi*sigma**2))\n",
    "\n",
    "fig,ax = plt.subplots(2,2,figsize=(12,6),gridspec_kw={'height_ratios':[2,1.25]})\n",
    "\n",
    "# trace plot\n",
    "ax[0,0].plot(samples)\n",
    "ax[0,0].set_xlabel(r'Step')\n",
    "ax[0,0].set_ylabel(r'$x$')\n",
    "ax[0,0].axhline(0,color='k',ls='-.')\n",
    "\n",
    "# compare your samples to the true distribution\n",
    "ax[0,1].plot(test_x,prob)\n",
    "ax[0,1].hist(samples,bins=50,density=True)\n",
    "ax[0,1].set_xlabel(r'$x$')\n",
    "ax[0,1].set_ylabel(r'$p(x)$')\n",
    "\n",
    "# log_prob trace plot\n",
    "ax[1,0].plot(ln_prob)\n",
    "ax[1,0].set_xlabel(r'Step')\n",
    "ax[1,0].set_ylabel(r'lnprob')\n",
    "\n",
    "# plot the acceptance rate\n",
    "ax[1,1].plot(acc_rate)\n",
    "ax[1,1].set_xlabel(r'Step')\n",
    "ax[1,1].set_ylabel(r'Acc. rate')\n",
    "\n",
    "plt.tight_layout()"
   ]
  },
  {
   "cell_type": "markdown",
   "metadata": {},
   "source": [
    "#### 2. Estimate the mean and variance of the original probability distribution from the mcmc samples"
   ]
  },
  {
   "cell_type": "markdown",
   "metadata": {},
   "source": [
    "#### 3. Calculate the value of the Gelman-Rubin diagnostic (R-1) for the different MCMC runs. Which combination of proposal sigma and initial point x0 converges the fastest to the true distribution?"
   ]
  },
  {
   "cell_type": "markdown",
   "metadata": {},
   "source": [
    "#### 4. Extend the simple Gaussian to high (>10) dimensions with correlated parameters or to highly non-Gaussian distributions. Is the mcmc still efficient?"
   ]
  },
  {
   "cell_type": "markdown",
   "metadata": {},
   "source": []
  }
 ],
 "metadata": {
  "kernelspec": {
   "display_name": "cosmo",
   "language": "python",
   "name": "python3"
  },
  "language_info": {
   "codemirror_mode": {
    "name": "ipython",
    "version": 3
   },
   "file_extension": ".py",
   "mimetype": "text/x-python",
   "name": "python",
   "nbconvert_exporter": "python",
   "pygments_lexer": "ipython3",
   "version": "3.12.2"
  }
 },
 "nbformat": 4,
 "nbformat_minor": 2
}
